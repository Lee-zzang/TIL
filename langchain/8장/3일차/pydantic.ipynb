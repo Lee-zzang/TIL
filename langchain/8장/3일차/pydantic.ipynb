{
 "cells": [
  {
   "cell_type": "code",
   "execution_count": 27,
   "id": "2ecdcb79",
   "metadata": {},
   "outputs": [
    {
     "data": {
      "text/plain": [
       "AIMessage(content='네, 잘 지냈습니다! 당신은 어떻게 지내고 계신가요?', additional_kwargs={'refusal': None}, response_metadata={'token_usage': {'completion_tokens': 18, 'prompt_tokens': 12, 'total_tokens': 30, 'completion_tokens_details': {'accepted_prediction_tokens': 0, 'audio_tokens': 0, 'reasoning_tokens': 0, 'rejected_prediction_tokens': 0}, 'prompt_tokens_details': {'audio_tokens': 0, 'cached_tokens': 0}}, 'model_provider': 'openai', 'model_name': 'gpt-4o-mini-2024-07-18', 'system_fingerprint': 'fp_560af6e559', 'id': 'chatcmpl-CU4P2rQD1zq3ZLsQzQfrnIgECvhho', 'service_tier': 'default', 'finish_reason': 'stop', 'logprobs': None}, id='lc_run--12d56b53-d370-41b4-acdf-f066a7bfbb00-0', usage_metadata={'input_tokens': 12, 'output_tokens': 18, 'total_tokens': 30, 'input_token_details': {'audio': 0, 'cache_read': 0}, 'output_token_details': {'audio': 0, 'reasoning': 0}})"
      ]
     },
     "execution_count": 27,
     "metadata": {},
     "output_type": "execute_result"
    }
   ],
   "source": [
    "from langchain_openai import ChatOpenAI\n",
    "from langchain_core.messages import HumanMessage\n",
    "llm = ChatOpenAI(model=\"gpt-4o-mini\")\n",
    "\n",
    "llm.invoke([HumanMessage(\"잘 지냈어?\")])"
   ]
  },
  {
   "cell_type": "code",
   "execution_count": 28,
   "id": "8dc5c8a4",
   "metadata": {},
   "outputs": [],
   "source": [
    "from langchain_core.tools import tool\n",
    "from datetime import datetime\n",
    "import pytz\n",
    "\n",
    "@tool # @tool 데코레이터를 사용하여 함수를 도구로 등록\n",
    "def get_current_time(timezone: str, location: str) -> str:\n",
    "    \"\"\" 현재 시각을 반환하는 함수\n",
    "\n",
    "    Args:\n",
    "        timezone (str): 타임존 (예: 'Asia/Seoul') 실제 존재하는 타임존이어야 함\n",
    "        location (str): 지역명. 타임존이 모든 지명에 대응되지 않기 때문에 이후 llm 답변 생성에 사용됨\n",
    "    \"\"\"\n",
    "    tz = pytz.timezone(timezone)\n",
    "    now = datetime.now(tz).strftime(\"%Y-%m-%d %H:%M:%S\")\n",
    "    location_and_local_time = f'{timezone} ({location}) 현재시각 {now} ' # 타임존, 지역명, 현재시각을 문자열로 반환\n",
    "    print(location_and_local_time)\n",
    "    return location_and_local_time\n"
   ]
  },
  {
   "cell_type": "code",
   "execution_count": 29,
   "id": "54f70988",
   "metadata": {},
   "outputs": [],
   "source": [
    "# 도구를 tools 리스트에 추가하고, tool_dict에도 추가\n",
    "tools = [get_current_time,]\n",
    "tool_dict = {\"get_current_time\": get_current_time,}\n",
    "\n",
    "# 도구를 모델에 바인딩: 모델에 도구를 바인딩하면, 도구를 사용하여 llm 답변을 생성할 수 있음\n",
    "llm_with_tools = llm.bind_tools(tools)"
   ]
  },
  {
   "cell_type": "code",
   "execution_count": 30,
   "id": "e26f24d3",
   "metadata": {},
   "outputs": [
    {
     "name": "stdout",
     "output_type": "stream",
     "text": [
      "[SystemMessage(content='너는 사용자의 질문에 답변을 하기 위해 tools를 사용할 수 있다.', additional_kwargs={}, response_metadata={}), HumanMessage(content='부산은 지금 몇시야?', additional_kwargs={}, response_metadata={}), AIMessage(content='', additional_kwargs={'refusal': None}, response_metadata={'token_usage': {'completion_tokens': 23, 'prompt_tokens': 135, 'total_tokens': 158, 'completion_tokens_details': {'accepted_prediction_tokens': 0, 'audio_tokens': 0, 'reasoning_tokens': 0, 'rejected_prediction_tokens': 0}, 'prompt_tokens_details': {'audio_tokens': 0, 'cached_tokens': 0}}, 'model_provider': 'openai', 'model_name': 'gpt-4o-mini-2024-07-18', 'system_fingerprint': 'fp_560af6e559', 'id': 'chatcmpl-CU4P7LePUR46rZe8cQFlykcE8JjiG', 'service_tier': 'default', 'finish_reason': 'tool_calls', 'logprobs': None}, id='lc_run--9dae6cc7-8396-48a9-8472-8939e1f77f32-0', tool_calls=[{'name': 'get_current_time', 'args': {'timezone': 'Asia/Seoul', 'location': '부산'}, 'id': 'call_SIbomO7Kzf9xUyZBWx3haWfu', 'type': 'tool_call'}], usage_metadata={'input_tokens': 135, 'output_tokens': 23, 'total_tokens': 158, 'input_token_details': {'audio': 0, 'cache_read': 0}, 'output_token_details': {'audio': 0, 'reasoning': 0}})]\n"
     ]
    }
   ],
   "source": [
    "from langchain_core.messages import SystemMessage\n",
    "\n",
    "# (4) 사용자의 질문과 tools 사용하여 llm 답변 생성\n",
    "messages = [\n",
    "    SystemMessage(\"너는 사용자의 질문에 답변을 하기 위해 tools를 사용할 수 있다.\"),\n",
    "    HumanMessage(\"부산은 지금 몇시야?\"),\n",
    "]\n",
    "\n",
    "# (5) llm_with_tools를 사용하여 사용자의 질문에 대한 llm 답변 생성\n",
    "response = llm_with_tools.invoke(messages)\n",
    "messages.append(response)\n",
    "\n",
    "# (6) 생성된 llm 답변 출력\n",
    "print(messages)"
   ]
  },
  {
   "cell_type": "code",
   "execution_count": 31,
   "id": "f767f475",
   "metadata": {},
   "outputs": [
    {
     "name": "stdout",
     "output_type": "stream",
     "text": [
      "{'timezone': 'Asia/Seoul', 'location': '부산'}\n",
      "Asia/Seoul (부산) 현재시각 2025-10-24 14:13:26 \n"
     ]
    },
    {
     "data": {
      "text/plain": [
       "[SystemMessage(content='너는 사용자의 질문에 답변을 하기 위해 tools를 사용할 수 있다.', additional_kwargs={}, response_metadata={}),\n",
       " HumanMessage(content='부산은 지금 몇시야?', additional_kwargs={}, response_metadata={}),\n",
       " AIMessage(content='', additional_kwargs={'refusal': None}, response_metadata={'token_usage': {'completion_tokens': 23, 'prompt_tokens': 135, 'total_tokens': 158, 'completion_tokens_details': {'accepted_prediction_tokens': 0, 'audio_tokens': 0, 'reasoning_tokens': 0, 'rejected_prediction_tokens': 0}, 'prompt_tokens_details': {'audio_tokens': 0, 'cached_tokens': 0}}, 'model_provider': 'openai', 'model_name': 'gpt-4o-mini-2024-07-18', 'system_fingerprint': 'fp_560af6e559', 'id': 'chatcmpl-CU4P7LePUR46rZe8cQFlykcE8JjiG', 'service_tier': 'default', 'finish_reason': 'tool_calls', 'logprobs': None}, id='lc_run--9dae6cc7-8396-48a9-8472-8939e1f77f32-0', tool_calls=[{'name': 'get_current_time', 'args': {'timezone': 'Asia/Seoul', 'location': '부산'}, 'id': 'call_SIbomO7Kzf9xUyZBWx3haWfu', 'type': 'tool_call'}], usage_metadata={'input_tokens': 135, 'output_tokens': 23, 'total_tokens': 158, 'input_token_details': {'audio': 0, 'cache_read': 0}, 'output_token_details': {'audio': 0, 'reasoning': 0}}),\n",
       " ToolMessage(content='Asia/Seoul (부산) 현재시각 2025-10-24 14:13:26 ', name='get_current_time', tool_call_id='call_SIbomO7Kzf9xUyZBWx3haWfu')]"
      ]
     },
     "execution_count": 31,
     "metadata": {},
     "output_type": "execute_result"
    }
   ],
   "source": [
    "for tool_call in response.tool_calls:\n",
    "    selected_tool = tool_dict[tool_call[\"name\"]] # (7) tool_dict를 사용하여 도구 함수를 선택\n",
    "    print(tool_call[\"args\"]) # (8) 도구 호출 시 전달된 인자 출력\n",
    "    tool_msg = selected_tool.invoke(tool_call) # (9) 도구 함수를 호출하여 결과를 반환\n",
    "    messages.append(tool_msg)\n",
    "\n",
    "messages"
   ]
  },
  {
   "cell_type": "code",
   "execution_count": 32,
   "id": "70a34572",
   "metadata": {},
   "outputs": [
    {
     "data": {
      "text/plain": [
       "AIMessage(content='부산은 지금 2025년 10월 24일 오후 2시 13분입니다.', additional_kwargs={'refusal': None}, response_metadata={'token_usage': {'completion_tokens': 24, 'prompt_tokens': 192, 'total_tokens': 216, 'completion_tokens_details': {'accepted_prediction_tokens': 0, 'audio_tokens': 0, 'reasoning_tokens': 0, 'rejected_prediction_tokens': 0}, 'prompt_tokens_details': {'audio_tokens': 0, 'cached_tokens': 0}}, 'model_provider': 'openai', 'model_name': 'gpt-4o-mini-2024-07-18', 'system_fingerprint': 'fp_560af6e559', 'id': 'chatcmpl-CU4PABUTaPH4Ssu0lXbicjuxmqoUG', 'service_tier': 'default', 'finish_reason': 'stop', 'logprobs': None}, id='lc_run--f25bd7f3-48ce-4fcc-951a-83d2b94a5298-0', usage_metadata={'input_tokens': 192, 'output_tokens': 24, 'total_tokens': 216, 'input_token_details': {'audio': 0, 'cache_read': 0}, 'output_token_details': {'audio': 0, 'reasoning': 0}})"
      ]
     },
     "execution_count": 32,
     "metadata": {},
     "output_type": "execute_result"
    }
   ],
   "source": [
    "llm_with_tools.invoke(messages)"
   ]
  },
  {
   "cell_type": "code",
   "execution_count": 33,
   "id": "eccc3582",
   "metadata": {},
   "outputs": [],
   "source": [
    "from pydantic import BaseModel, Field\n",
    "\n",
    "class StockHistoryInput(BaseModel):\n",
    "    ticker: str = Field(..., title=\"주식 코드\", description=\"주식 코드 (예: AAPL)\")\n",
    "    period: str = Field(..., title=\"기간\", description=\"주식 데이터 조회 기간 (예: 1d, 1mo, 1y)\")\n"
   ]
  },
  {
   "cell_type": "code",
   "execution_count": 34,
   "id": "d4dbde9c",
   "metadata": {},
   "outputs": [],
   "source": [
    "import yfinance as yf\n",
    "\n",
    "@tool\n",
    "def get_yf_stock_history(stock_history_input: StockHistoryInput) -> str:\n",
    "    \"\"\" 주식 종목의 가격 데이터를 조회하는 함수\"\"\"\n",
    "    stock = yf.Ticker(stock_history_input.ticker)\n",
    "    history = stock.history(period=stock_history_input.period)\n",
    "    history_md = history.to_markdown() \n",
    "\n",
    "    return history_md\n",
    "\n",
    "tools = [get_current_time, get_yf_stock_history]\n",
    "tool_dict = {\"get_current_time\": get_current_time, \"get_yf_stock_history\": get_yf_stock_history}\n",
    "\n",
    "llm_with_tools = llm.bind_tools(tools)"
   ]
  },
  {
   "cell_type": "code",
   "execution_count": 35,
   "id": "93c534b1",
   "metadata": {},
   "outputs": [
    {
     "name": "stdout",
     "output_type": "stream",
     "text": [
      "content='' additional_kwargs={'refusal': None} response_metadata={'token_usage': {'completion_tokens': 27, 'prompt_tokens': 283, 'total_tokens': 310, 'completion_tokens_details': {'accepted_prediction_tokens': 0, 'audio_tokens': 0, 'reasoning_tokens': 0, 'rejected_prediction_tokens': 0}, 'prompt_tokens_details': {'audio_tokens': 0, 'cached_tokens': 0}}, 'model_provider': 'openai', 'model_name': 'gpt-4o-mini-2024-07-18', 'system_fingerprint': 'fp_560af6e559', 'id': 'chatcmpl-CU4PGMGdomP0j1tL6fRrWYv0E3xqW', 'service_tier': 'default', 'finish_reason': 'tool_calls', 'logprobs': None} id='lc_run--26324651-5163-4167-97f1-c6f13d8a8a03-0' tool_calls=[{'name': 'get_yf_stock_history', 'args': {'stock_history_input': {'ticker': 'TSLA', 'period': '1mo'}}, 'id': 'call_4g5Jmtf7jgwSXUyc76i37r2n', 'type': 'tool_call'}] usage_metadata={'input_tokens': 283, 'output_tokens': 27, 'total_tokens': 310, 'input_token_details': {'audio': 0, 'cache_read': 0}, 'output_token_details': {'audio': 0, 'reasoning': 0}}\n"
     ]
    }
   ],
   "source": [
    "messages.append(HumanMessage(\"테슬라는 한달 전에 비해 주가가 올랐나 내렸나?\"))\n",
    "               \n",
    "response = llm_with_tools.invoke(messages)\n",
    "print(response)\n",
    "messages.append(response)"
   ]
  },
  {
   "cell_type": "code",
   "execution_count": 36,
   "id": "83f70fcb",
   "metadata": {},
   "outputs": [
    {
     "name": "stdout",
     "output_type": "stream",
     "text": [
      "{'stock_history_input': {'ticker': 'TSLA', 'period': '1mo'}}\n",
      "content='| Date                      |   Open |   High |    Low |   Close |      Volume |   Dividends |   Stock Splits |\\n|:--------------------------|-------:|-------:|-------:|--------:|------------:|------------:|---------------:|\\n| 2025-09-24 00:00:00-04:00 | 429.83 | 444.21 | 429.03 |  442.79 | 9.31336e+07 |           0 |              0 |\\n| 2025-09-25 00:00:00-04:00 | 435.24 | 435.35 | 419.08 |  423.39 | 9.67464e+07 |           0 |              0 |\\n| 2025-09-26 00:00:00-04:00 | 428.3  | 440.47 | 421.02 |  440.4  | 1.01628e+08 |           0 |              0 |\\n| 2025-09-29 00:00:00-04:00 | 444.35 | 450.98 | 439.5  |  443.21 | 7.94915e+07 |           0 |              0 |\\n| 2025-09-30 00:00:00-04:00 | 441.52 | 445    | 433.12 |  444.72 | 7.4358e+07  |           0 |              0 |\\n| 2025-10-01 00:00:00-04:00 | 443.8  | 462.29 | 440.75 |  459.46 | 9.81223e+07 |           0 |              0 |\\n| 2025-10-02 00:00:00-04:00 | 470.54 | 470.75 | 435.57 |  436    | 1.37009e+08 |           0 |              0 |\\n| 2025-10-03 00:00:00-04:00 | 443.29 | 446.77 | 416.58 |  429.83 | 1.33188e+08 |           0 |              0 |\\n| 2025-10-06 00:00:00-04:00 | 440.75 | 453.55 | 436.69 |  453.25 | 8.53249e+07 |           0 |              0 |\\n| 2025-10-07 00:00:00-04:00 | 447.82 | 452.68 | 432.45 |  433.09 | 1.02296e+08 |           0 |              0 |\\n| 2025-10-08 00:00:00-04:00 | 437.57 | 441.33 | 425.23 |  438.69 | 7.11921e+07 |           0 |              0 |\\n| 2025-10-09 00:00:00-04:00 | 431.81 | 436.35 | 426.18 |  435.54 | 6.93399e+07 |           0 |              0 |\\n| 2025-10-10 00:00:00-04:00 | 436.54 | 443.13 | 411.45 |  413.49 | 1.12108e+08 |           0 |              0 |\\n| 2025-10-13 00:00:00-04:00 | 423.53 | 436.89 | 419.7  |  435.9  | 7.95528e+07 |           0 |              0 |\\n| 2025-10-14 00:00:00-04:00 | 426.79 | 434.2  | 417.86 |  429.24 | 7.26694e+07 |           0 |              0 |\\n| 2025-10-15 00:00:00-04:00 | 434.9  | 440.51 | 426.33 |  435.15 | 7.15582e+07 |           0 |              0 |\\n| 2025-10-16 00:00:00-04:00 | 434.73 | 439.35 | 421.31 |  428.75 | 7.71899e+07 |           0 |              0 |\\n| 2025-10-17 00:00:00-04:00 | 425.5  | 441.46 | 423.6  |  439.31 | 8.93316e+07 |           0 |              0 |\\n| 2025-10-20 00:00:00-04:00 | 443.87 | 449.8  | 440.61 |  447.43 | 6.3719e+07  |           0 |              0 |\\n| 2025-10-21 00:00:00-04:00 | 445.76 | 449.3  | 442.05 |  442.6  | 5.44122e+07 |           0 |              0 |\\n| 2025-10-22 00:00:00-04:00 | 443.45 | 445.54 | 429    |  438.97 | 8.40235e+07 |           0 |              0 |\\n| 2025-10-23 00:00:00-04:00 | 420    | 449.4  | 413.9  |  448.98 | 1.26328e+08 |           0 |              0 |' name='get_yf_stock_history' tool_call_id='call_4g5Jmtf7jgwSXUyc76i37r2n'\n"
     ]
    }
   ],
   "source": [
    "for tool_call in response.tool_calls:\n",
    "    selected_tool = tool_dict[tool_call[\"name\"]]\n",
    "    print(tool_call[\"args\"])\n",
    "    tool_msg = selected_tool.invoke(tool_call)\n",
    "    messages.append(tool_msg)\n",
    "    print(tool_msg)"
   ]
  },
  {
   "cell_type": "code",
   "execution_count": 37,
   "id": "4b8b140b",
   "metadata": {},
   "outputs": [
    {
     "data": {
      "text/plain": [
       "AIMessage(content='한 달 전인 2025년 9월 24일의 테슬라(TSLA) 주가는 **442.79** 달러로 마감했습니다. 현재(2025년 10월 23일) 주가는 **448.98** 달러입니다.\\n\\n따라서, 테슬라의 주가는 한 달 전보다 **상승**했습니다.', additional_kwargs={'refusal': None}, response_metadata={'token_usage': {'completion_tokens': 80, 'prompt_tokens': 1643, 'total_tokens': 1723, 'completion_tokens_details': {'accepted_prediction_tokens': 0, 'audio_tokens': 0, 'reasoning_tokens': 0, 'rejected_prediction_tokens': 0}, 'prompt_tokens_details': {'audio_tokens': 0, 'cached_tokens': 0}}, 'model_provider': 'openai', 'model_name': 'gpt-4o-mini-2024-07-18', 'system_fingerprint': 'fp_560af6e559', 'id': 'chatcmpl-CU4PKVThC4IlaoFsXeJ5gisyLpzQ4', 'service_tier': 'default', 'finish_reason': 'stop', 'logprobs': None}, id='lc_run--173273b3-8004-44ec-b244-1d1fbc40508c-0', usage_metadata={'input_tokens': 1643, 'output_tokens': 80, 'total_tokens': 1723, 'input_token_details': {'audio': 0, 'cache_read': 0}, 'output_token_details': {'audio': 0, 'reasoning': 0}})"
      ]
     },
     "execution_count": 37,
     "metadata": {},
     "output_type": "execute_result"
    }
   ],
   "source": [
    "llm_with_tools.invoke(messages)"
   ]
  }
 ],
 "metadata": {
  "kernelspec": {
   "display_name": "TIL",
   "language": "python",
   "name": "python3"
  },
  "language_info": {
   "codemirror_mode": {
    "name": "ipython",
    "version": 3
   },
   "file_extension": ".py",
   "mimetype": "text/x-python",
   "name": "python",
   "nbconvert_exporter": "python",
   "pygments_lexer": "ipython3",
   "version": "3.13.5"
  }
 },
 "nbformat": 4,
 "nbformat_minor": 5
}
