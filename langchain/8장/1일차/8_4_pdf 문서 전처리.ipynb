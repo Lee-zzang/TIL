{
 "cells": [
  {
   "cell_type": "code",
   "execution_count": 2,
   "id": "0e17702d",
   "metadata": {},
   "outputs": [],
   "source": [
    "import pymupdf\n",
    "import os"
   ]
  },
  {
   "cell_type": "code",
   "execution_count": 3,
   "id": "9f8875d7",
   "metadata": {},
   "outputs": [],
   "source": [
    "# PDF 문서를 PyMuPDF로 열기\n",
    "pdf_file_path =r\"C:\\TIL\\langchain\\data\\과정기반 작물모형을 이용한 웹 기반 밀 재배관리 의사결정 지원시스템 설계 및 구축.pdf\"\n",
    "doc = pymupdf.open(pdf_file_path)\n",
    "\n",
    "full_text = ''"
   ]
  },
  {
   "cell_type": "code",
   "execution_count": 8,
   "id": "f94dfd63",
   "metadata": {},
   "outputs": [],
   "source": [
    "# 문서 페이지 반복하면서 페이지 내용 추출하기\n",
    "for page in doc: \n",
    "    text = page.get_text()\n",
    "    full_text += text\n"
   ]
  },
  {
   "cell_type": "code",
   "execution_count": 12,
   "id": "110140fb",
   "metadata": {},
   "outputs": [],
   "source": [
    "# PDF 파일명 추출 \n",
    "pdf_file_name = os.path.basename(pdf_file_path)\n",
    "pdf_file_name = os.path.splitext(pdf_file_name)[0]\n",
    "\n",
    "# 텍스트 파일로 저장\n",
    "txt_file_path = f\"../chap04/output/{pdf_file_name}.txt\"\n",
    "with open(txt_file_path, 'w', encoding='utf-8') as f:\n",
    "    f.write(full_text)"
   ]
  }
 ],
 "metadata": {
  "kernelspec": {
   "display_name": "TIL",
   "language": "python",
   "name": "python3"
  },
  "language_info": {
   "codemirror_mode": {
    "name": "ipython",
    "version": 3
   },
   "file_extension": ".py",
   "mimetype": "text/x-python",
   "name": "python",
   "nbconvert_exporter": "python",
   "pygments_lexer": "ipython3",
   "version": "3.13.5"
  }
 },
 "nbformat": 4,
 "nbformat_minor": 5
}
